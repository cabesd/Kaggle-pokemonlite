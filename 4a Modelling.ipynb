{
 "cells": [
  {
   "cell_type": "code",
   "execution_count": 95,
   "metadata": {},
   "outputs": [],
   "source": [
    "import pandas as pd\n",
    "import numpy as np\n",
    "import matplotlib.pyplot as plt\n",
    "%matplotlib inline\n",
    "\n",
    "import warnings\n",
    "import sklearn.exceptions\n",
    "warnings.filterwarnings(\"ignore\", category=sklearn.exceptions.UndefinedMetricWarning)\n",
    "\n",
    "from sklearn.model_selection import GridSearchCV\n",
    "from sklearn.preprocessing import StandardScaler\n",
    "from sklearn.metrics import confusion_matrix, accuracy_score, precision_score, f1_score, roc_curve\n",
    "\n",
    "def show_grid_results(grid_search, all=True):\n",
    "    print('Best parameters:\\n', grid_search.best_params_, '\\n', grid_search.best_score_, '\\n')\n",
    "    if all:\n",
    "        cvres = grid_search.cv_results_\n",
    "        for mean_score, params in zip(cvres[\"mean_test_score\"], cvres[\"params\"]):\n",
    "            print(mean_score, params)"
   ]
  },
  {
   "cell_type": "code",
   "execution_count": 2,
   "metadata": {},
   "outputs": [
    {
     "data": {
      "text/plain": [
       "((520, 255), (281, 254))"
      ]
     },
     "execution_count": 2,
     "metadata": {},
     "output_type": "execute_result"
    }
   ],
   "source": [
    "train = pd.read_csv('./data/cl_train.csv')\n",
    "test = pd.read_csv('./data/cl_test.csv')\n",
    "train.shape, test.shape"
   ]
  },
  {
   "cell_type": "code",
   "execution_count": 3,
   "metadata": {},
   "outputs": [],
   "source": [
    "Y = train['is_legendary']\n",
    "X = train.drop(columns=['is_legendary', 'unique_id'])\n",
    "Xt = test.drop(columns=['unique_id'])"
   ]
  },
  {
   "cell_type": "code",
   "execution_count": 4,
   "metadata": {},
   "outputs": [],
   "source": [
    "scaler = StandardScaler()\n",
    "scaler.fit(X)\n",
    "X_scaled = scaler.transform(X)\n",
    "Xt_scaled = scaler.transform(Xt)"
   ]
  },
  {
   "cell_type": "markdown",
   "metadata": {},
   "source": [
    "### Collect the models score"
   ]
  },
  {
   "cell_type": "code",
   "execution_count": 66,
   "metadata": {},
   "outputs": [
    {
     "data": {
      "text/plain": [
       "2"
      ]
     },
     "execution_count": 66,
     "metadata": {},
     "output_type": "execute_result"
    }
   ],
   "source": [
    "l = ['a', 'b', 'c']\n",
    "ix = l.index('c')\n",
    "ix"
   ]
  },
  {
   "cell_type": "code",
   "execution_count": 67,
   "metadata": {},
   "outputs": [],
   "source": [
    "def save_clf(obj: dict):\n",
    "    name = type(obj['clf']).__name__\n",
    "    global clfs_name, clfs, X_used, scores\n",
    "    if name in clfs_name:\n",
    "        ix = clfs_name.index(name)\n",
    "        \n",
    "        clfs_name.pop(ix)\n",
    "        clfs.pop(ix)\n",
    "        X_used.pop(ix)\n",
    "        scores.pop(ix)\n",
    "        \n",
    "    clfs_name.append(name)\n",
    "    clfs.append(obj['clf'])\n",
    "    X_used.append(obj['X'])\n",
    "    scores.append(obj['score'])\n",
    "\n",
    "def reset_clfs():\n",
    "    global clfs_name, clfs, X_used, scores\n",
    "    clfs_name = []\n",
    "    clfs = []\n",
    "    X_used = []\n",
    "    scores = []\n",
    "\n",
    "reset_clfs()"
   ]
  },
  {
   "cell_type": "code",
   "execution_count": null,
   "metadata": {},
   "outputs": [],
   "source": []
  },
  {
   "cell_type": "markdown",
   "metadata": {},
   "source": [
    "# Logistic Classifier"
   ]
  },
  {
   "cell_type": "code",
   "execution_count": 68,
   "metadata": {},
   "outputs": [
    {
     "name": "stdout",
     "output_type": "stream",
     "text": [
      "Best parameters:\n",
      " {'multi_class': 'ovr', 'penalty': 'l2', 'solver': 'newton-cg'} \n",
      " 0.6634615384615384 \n",
      "\n",
      "0.6634615384615384 {'multi_class': 'ovr', 'penalty': 'l2', 'solver': 'newton-cg'}\n",
      "0.32859806859806856 {'multi_class': 'ovr', 'penalty': 'none', 'solver': 'newton-cg'}\n",
      "0.6119505494505495 {'multi_class': 'multinomial', 'penalty': 'l2', 'solver': 'newton-cg'}\n",
      "0.3321045621045621 {'multi_class': 'multinomial', 'penalty': 'none', 'solver': 'newton-cg'}\n",
      "0.6634615384615384 {'multi_class': 'auto', 'penalty': 'l2', 'solver': 'newton-cg'}\n",
      "0.32859806859806856 {'multi_class': 'auto', 'penalty': 'none', 'solver': 'newton-cg'}\n"
     ]
    },
    {
     "name": "stderr",
     "output_type": "stream",
     "text": [
      "/Library/Frameworks/Python.framework/Versions/3.7/lib/python3.7/site-packages/sklearn/model_selection/_search.py:813: DeprecationWarning: The default of the `iid` parameter will change from True to False in version 0.22 and will be removed in 0.24. This will change numeric results when test-set sizes are unequal.\n",
      "  DeprecationWarning)\n"
     ]
    }
   ],
   "source": [
    "from sklearn.linear_model import LogisticRegression\n",
    "param_grid = [\n",
    "#     { 'solver':['liblinear'] },\n",
    "    { 'solver':['newton-cg'], 'penalty':['l2', 'none'], 'multi_class':['ovr', 'multinomial', 'auto'] },\n",
    "#     { 'solver':['lbfgs'], 'penalty':['l2', 'none'], 'multi_class':['ovr', 'multinomial', 'auto'] },\n",
    "#     { 'solver':['saga'], 'l1_ratio':[0.5, 0.6, 0.75, 0.9], 'max_iter':[1000], 'penalty':['l1', 'l2', 'elasticnet'] },\n",
    "#     { 'solver':['sag'], 'penalty':['l2'], 'max_iter': [1000] }\n",
    "]\n",
    "model = LogisticRegression()\n",
    "grid_search = GridSearchCV(model, param_grid, cv=10, scoring='precision', return_train_score=True)\n",
    "grid_search.fit(X_scaled, Y)\n",
    "show_grid_results(grid_search)"
   ]
  },
  {
   "cell_type": "code",
   "execution_count": 69,
   "metadata": {},
   "outputs": [],
   "source": [
    "aux = {\n",
    "    'X': X_scaled,\n",
    "    'clf': grid_search.best_estimator_,\n",
    "    'score': grid_search.best_score_\n",
    "}\n",
    "save_clf(aux)"
   ]
  },
  {
   "cell_type": "markdown",
   "metadata": {},
   "source": [
    "# RandomForest"
   ]
  },
  {
   "cell_type": "code",
   "execution_count": 70,
   "metadata": {},
   "outputs": [
    {
     "name": "stdout",
     "output_type": "stream",
     "text": [
      "Best parameters:\n",
      " {'n_estimators': 200} \n",
      " 0.9666666666666666 \n",
      "\n",
      "0.9416666666666665 {'n_estimators': 100}\n",
      "0.95 {'n_estimators': 150}\n",
      "0.9666666666666666 {'n_estimators': 200}\n"
     ]
    }
   ],
   "source": [
    "from sklearn.ensemble import RandomForestClassifier\n",
    "param_grid = [\n",
    "    { 'n_estimators': [100, 150, 200] }\n",
    "]\n",
    "model = RandomForestClassifier()\n",
    "grid_search = GridSearchCV(model, param_grid, cv=10, scoring='precision', return_train_score=True)\n",
    "grid_search.fit(X, Y)\n",
    "show_grid_results(grid_search)"
   ]
  },
  {
   "cell_type": "code",
   "execution_count": 71,
   "metadata": {},
   "outputs": [],
   "source": [
    "aux = {\n",
    "    'X': X,\n",
    "    'clf': grid_search.best_estimator_,\n",
    "    'score': grid_search.best_score_\n",
    "}\n",
    "save_clf(aux)"
   ]
  },
  {
   "cell_type": "markdown",
   "metadata": {},
   "source": [
    "# Neural Network"
   ]
  },
  {
   "cell_type": "code",
   "execution_count": 79,
   "metadata": {},
   "outputs": [
    {
     "name": "stderr",
     "output_type": "stream",
     "text": [
      "/Library/Frameworks/Python.framework/Versions/3.7/lib/python3.7/site-packages/sklearn/model_selection/_search.py:813: DeprecationWarning: The default of the `iid` parameter will change from True to False in version 0.22 and will be removed in 0.24. This will change numeric results when test-set sizes are unequal.\n",
      "  DeprecationWarning)\n"
     ]
    },
    {
     "name": "stdout",
     "output_type": "stream",
     "text": [
      "Best parameters:\n",
      " {'hidden_layer_sizes': (10, 20, 10), 'max_iter': 1000} \n",
      " 0.48948717948717946 \n",
      "\n",
      "0.48948717948717946 {'hidden_layer_sizes': (10, 20, 10), 'max_iter': 1000}\n"
     ]
    }
   ],
   "source": [
    "from sklearn.neural_network import MLPClassifier\n",
    "param_grid = [\n",
    "#     { 'hidden_layer_sizes': [(10,10,10)], 'max_iter': [1000] } # .91153\n",
    "    { 'hidden_layer_sizes': [(10,20,10)], 'max_iter': [1000] } # .905769\n",
    "#     { 'hidden_layer_sizes': [(10,10,10,10)], 'max_iter': [1000] } # .892307\n",
    "]\n",
    "model = MLPClassifier()\n",
    "grid_search = GridSearchCV(model, param_grid, cv=10, scoring='precision', return_train_score=True)\n",
    "grid_search.fit(X, Y)\n",
    "show_grid_results(grid_search)"
   ]
  },
  {
   "cell_type": "code",
   "execution_count": 82,
   "metadata": {},
   "outputs": [],
   "source": [
    "aux = {\n",
    "    'X': X,\n",
    "    'clf': grid_search.best_estimator_,\n",
    "    'score': grid_search.best_score_\n",
    "}\n",
    "save_clf(aux)"
   ]
  },
  {
   "cell_type": "markdown",
   "metadata": {},
   "source": [
    "# KNeighborsClassifier"
   ]
  },
  {
   "cell_type": "code",
   "execution_count": 84,
   "metadata": {},
   "outputs": [
    {
     "name": "stderr",
     "output_type": "stream",
     "text": [
      "/Library/Frameworks/Python.framework/Versions/3.7/lib/python3.7/site-packages/sklearn/metrics/classification.py:1437: UndefinedMetricWarning: Precision is ill-defined and being set to 0.0 due to no predicted samples.\n",
      "  'precision', 'predicted', average, warn_for)\n",
      "/Library/Frameworks/Python.framework/Versions/3.7/lib/python3.7/site-packages/sklearn/metrics/classification.py:1437: UndefinedMetricWarning: Precision is ill-defined and being set to 0.0 due to no predicted samples.\n",
      "  'precision', 'predicted', average, warn_for)\n",
      "/Library/Frameworks/Python.framework/Versions/3.7/lib/python3.7/site-packages/sklearn/metrics/classification.py:1437: UndefinedMetricWarning: Precision is ill-defined and being set to 0.0 due to no predicted samples.\n",
      "  'precision', 'predicted', average, warn_for)\n",
      "/Library/Frameworks/Python.framework/Versions/3.7/lib/python3.7/site-packages/sklearn/metrics/classification.py:1437: UndefinedMetricWarning: Precision is ill-defined and being set to 0.0 due to no predicted samples.\n",
      "  'precision', 'predicted', average, warn_for)\n"
     ]
    },
    {
     "name": "stdout",
     "output_type": "stream",
     "text": [
      "Best parameters:\n",
      " {'algorithm': 'auto', 'n_neighbors': 5} \n",
      " 0.5681089743589743 \n",
      "\n",
      "0.46762820512820513 {'algorithm': 'auto', 'n_neighbors': 2}\n",
      "0.5681089743589743 {'algorithm': 'auto', 'n_neighbors': 5}\n",
      "0.46762820512820513 {'algorithm': 'ball_tree', 'n_neighbors': 2}\n",
      "0.5681089743589743 {'algorithm': 'ball_tree', 'n_neighbors': 5}\n",
      "0.46762820512820513 {'algorithm': 'kd_tree', 'n_neighbors': 2}\n",
      "0.5681089743589743 {'algorithm': 'kd_tree', 'n_neighbors': 5}\n",
      "0.46762820512820513 {'algorithm': 'brute', 'n_neighbors': 2}\n",
      "0.5681089743589743 {'algorithm': 'brute', 'n_neighbors': 5}\n"
     ]
    },
    {
     "name": "stderr",
     "output_type": "stream",
     "text": [
      "/Library/Frameworks/Python.framework/Versions/3.7/lib/python3.7/site-packages/sklearn/model_selection/_search.py:813: DeprecationWarning: The default of the `iid` parameter will change from True to False in version 0.22 and will be removed in 0.24. This will change numeric results when test-set sizes are unequal.\n",
      "  DeprecationWarning)\n"
     ]
    }
   ],
   "source": [
    "from sklearn.neighbors import KNeighborsClassifier\n",
    "param_grid = [\n",
    "    { 'n_neighbors': [2, 5], 'algorithm': ['auto', 'ball_tree', 'kd_tree', 'brute'] }\n",
    "]\n",
    "model = KNeighborsClassifier()\n",
    "grid_search = GridSearchCV(model, param_grid, cv=10, scoring='precision', return_train_score=True)\n",
    "grid_search.fit(X, Y)\n",
    "show_grid_results(grid_search)"
   ]
  },
  {
   "cell_type": "code",
   "execution_count": 85,
   "metadata": {},
   "outputs": [],
   "source": [
    "aux = {\n",
    "    'X': X,\n",
    "    'clf': grid_search.best_estimator_,\n",
    "    'score': grid_search.best_score_\n",
    "}\n",
    "save_clf(aux)"
   ]
  },
  {
   "cell_type": "markdown",
   "metadata": {},
   "source": [
    "# SVC"
   ]
  },
  {
   "cell_type": "code",
   "execution_count": 116,
   "metadata": {},
   "outputs": [
    {
     "name": "stdout",
     "output_type": "stream",
     "text": [
      "Best parameters:\n",
      " {'gamma': 1, 'kernel': 'poly', 'probability': True} \n",
      " 0.636029411764706 \n",
      "\n",
      "0.4954545454545454 {'kernel': 'linear', 'probability': True}\n",
      "0.636029411764706 {'gamma': 1, 'kernel': 'poly', 'probability': True}\n",
      "0.0 {'C': 0.025, 'gamma': 1, 'kernel': 'sigmoid', 'probability': True}\n"
     ]
    }
   ],
   "source": [
    "from sklearn.svm import SVC\n",
    "param_grid = [\n",
    "    { 'kernel': ['linear'], 'probability': [True] }, # .9269\n",
    "#     { 'kernel': ['rbf'], 'gamma': [0.5, 1], 'C': [0.01, 0.05] } # .90769\n",
    "    { 'kernel': ['poly'], 'gamma': [1], 'probability': [True] }, # lot of time\n",
    "    { 'kernel': ['sigmoid'], 'gamma': [1], 'C': [0.025], 'probability': [True] } # .90769\n",
    "]\n",
    "model = SVC()\n",
    "grid_search = GridSearchCV(model, param_grid, cv=2, scoring='precision', return_train_score=True)\n",
    "grid_search.fit(X_scaled, Y)\n",
    "show_grid_results(grid_search)"
   ]
  },
  {
   "cell_type": "code",
   "execution_count": 117,
   "metadata": {},
   "outputs": [],
   "source": [
    "aux = {\n",
    "    'X': X,\n",
    "    'clf': grid_search.best_estimator_,\n",
    "    'score': grid_search.best_score_\n",
    "}\n",
    "save_clf(aux)"
   ]
  },
  {
   "cell_type": "markdown",
   "metadata": {},
   "source": [
    "# AdaBoostClassifier"
   ]
  },
  {
   "cell_type": "code",
   "execution_count": 94,
   "metadata": {},
   "outputs": [
    {
     "name": "stderr",
     "output_type": "stream",
     "text": [
      "/Library/Frameworks/Python.framework/Versions/3.7/lib/python3.7/site-packages/sklearn/metrics/classification.py:1437: UndefinedMetricWarning: Precision is ill-defined and being set to 0.0 due to no predicted samples.\n",
      "  'precision', 'predicted', average, warn_for)\n"
     ]
    },
    {
     "name": "stdout",
     "output_type": "stream",
     "text": [
      "Best parameters:\n",
      " {'algorithm': 'SAMME', 'n_estimators': 50} \n",
      " 0.6825961538461537 \n",
      "\n",
      "0.4442307692307692 {'algorithm': 'SAMME', 'n_estimators': 10}\n",
      "0.6155769230769231 {'algorithm': 'SAMME', 'n_estimators': 20}\n",
      "0.6825961538461537 {'algorithm': 'SAMME', 'n_estimators': 50}\n",
      "0.5838782051282051 {'algorithm': 'SAMME.R', 'n_estimators': 10}\n",
      "0.6111034798534797 {'algorithm': 'SAMME.R', 'n_estimators': 20}\n",
      "0.6590384615384615 {'algorithm': 'SAMME.R', 'n_estimators': 50}\n"
     ]
    },
    {
     "name": "stderr",
     "output_type": "stream",
     "text": [
      "/Library/Frameworks/Python.framework/Versions/3.7/lib/python3.7/site-packages/sklearn/model_selection/_search.py:813: DeprecationWarning: The default of the `iid` parameter will change from True to False in version 0.22 and will be removed in 0.24. This will change numeric results when test-set sizes are unequal.\n",
      "  DeprecationWarning)\n"
     ]
    }
   ],
   "source": [
    "from sklearn.ensemble import AdaBoostClassifier\n",
    "param_grid = [\n",
    "    { 'n_estimators': [10, 20, 50], 'algorithm': ['SAMME', 'SAMME.R'] }\n",
    "]\n",
    "model = AdaBoostClassifier()\n",
    "grid_search = GridSearchCV(model, param_grid, cv=10, scoring='precision', return_train_score=True)\n",
    "grid_search.fit(X, Y)\n",
    "show_grid_results(grid_search)"
   ]
  },
  {
   "cell_type": "code",
   "execution_count": 96,
   "metadata": {},
   "outputs": [],
   "source": [
    "aux = {\n",
    "    'X': X,\n",
    "    'clf': grid_search.best_estimator_,\n",
    "    'score': grid_search.best_score_\n",
    "}\n",
    "save_clf(aux)"
   ]
  },
  {
   "cell_type": "markdown",
   "metadata": {},
   "source": [
    "# GaussianNB"
   ]
  },
  {
   "cell_type": "code",
   "execution_count": 97,
   "metadata": {},
   "outputs": [
    {
     "name": "stdout",
     "output_type": "stream",
     "text": [
      "Best parameters:\n",
      " {'var_smoothing': 0.1} \n",
      " 0.5836538461538462 \n",
      "\n",
      "0.5364468864468863 {'var_smoothing': 0.01}\n",
      "0.5836538461538462 {'var_smoothing': 0.1}\n",
      "0.5836538461538462 {'var_smoothing': 0.15}\n"
     ]
    },
    {
     "name": "stderr",
     "output_type": "stream",
     "text": [
      "/Library/Frameworks/Python.framework/Versions/3.7/lib/python3.7/site-packages/sklearn/model_selection/_search.py:813: DeprecationWarning: The default of the `iid` parameter will change from True to False in version 0.22 and will be removed in 0.24. This will change numeric results when test-set sizes are unequal.\n",
      "  DeprecationWarning)\n"
     ]
    }
   ],
   "source": [
    "from sklearn.naive_bayes import GaussianNB\n",
    "param_grid = [\n",
    "    { 'var_smoothing': [0.01, 0.1, 0.15] }\n",
    "]\n",
    "model = GaussianNB()\n",
    "grid_search = GridSearchCV(model, param_grid, cv=10, scoring='precision', return_train_score=True)\n",
    "grid_search.fit(X, Y)\n",
    "show_grid_results(grid_search)"
   ]
  },
  {
   "cell_type": "code",
   "execution_count": 98,
   "metadata": {},
   "outputs": [],
   "source": [
    "aux = {\n",
    "    'X': X,\n",
    "    'clf': grid_search.best_estimator_,\n",
    "    'score': grid_search.best_score_\n",
    "}\n",
    "save_clf(aux)"
   ]
  },
  {
   "cell_type": "markdown",
   "metadata": {},
   "source": [
    "# Linear Classifier"
   ]
  },
  {
   "cell_type": "code",
   "execution_count": 99,
   "metadata": {},
   "outputs": [
    {
     "name": "stdout",
     "output_type": "stream",
     "text": [
      "Best parameters:\n",
      " {'loss': 'hinge', 'penalty': 'l1'} \n",
      " 0.36044438018122227 \n",
      "\n",
      "0.36044438018122227 {'loss': 'hinge', 'penalty': 'l1'}\n",
      "0.3005861017717582 {'loss': 'hinge', 'penalty': 'l2'}\n",
      "0.18121794871794872 {'loss': 'hinge', 'penalty': 'elasticnet'}\n",
      "0.2571287046287046 {'loss': 'log', 'penalty': 'l1'}\n",
      "0.13015184742158423 {'loss': 'log', 'penalty': 'l2'}\n",
      "0.12786874946758667 {'loss': 'log', 'penalty': 'elasticnet'}\n",
      "0.1503205128205128 {'loss': 'modified_huber', 'penalty': 'l1'}\n",
      "0.13465798694059564 {'loss': 'modified_huber', 'penalty': 'l2'}\n",
      "0.35627039627039625 {'loss': 'modified_huber', 'penalty': 'elasticnet'}\n",
      "0.14796245421245421 {'loss': 'squared_hinge', 'penalty': 'l1'}\n",
      "0.1951832907075874 {'loss': 'squared_hinge', 'penalty': 'l2'}\n",
      "0.12302655677655677 {'loss': 'squared_hinge', 'penalty': 'elasticnet'}\n",
      "0.14447115384615383 {'loss': 'perceptron', 'penalty': 'l1'}\n",
      "0.17568604750878997 {'loss': 'perceptron', 'penalty': 'l2'}\n",
      "0.05611111111111111 {'loss': 'perceptron', 'penalty': 'elasticnet'}\n"
     ]
    },
    {
     "name": "stderr",
     "output_type": "stream",
     "text": [
      "/Library/Frameworks/Python.framework/Versions/3.7/lib/python3.7/site-packages/sklearn/model_selection/_search.py:813: DeprecationWarning: The default of the `iid` parameter will change from True to False in version 0.22 and will be removed in 0.24. This will change numeric results when test-set sizes are unequal.\n",
      "  DeprecationWarning)\n"
     ]
    }
   ],
   "source": [
    "from sklearn.linear_model import SGDClassifier\n",
    "param_grid = [\n",
    "    { 'penalty': ['l1', 'l2', 'elasticnet'], 'loss': ['hinge', 'log', 'modified_huber', 'squared_hinge', 'perceptron'] }\n",
    "]\n",
    "model = SGDClassifier()\n",
    "grid_search = GridSearchCV(model, param_grid, cv=10, scoring='precision', return_train_score=True)\n",
    "grid_search.fit(X, Y)\n",
    "show_grid_results(grid_search)"
   ]
  },
  {
   "cell_type": "code",
   "execution_count": 100,
   "metadata": {},
   "outputs": [],
   "source": [
    "aux = {\n",
    "    'X': X,\n",
    "    'clf': grid_search.best_estimator_,\n",
    "    'score': grid_search.best_score_\n",
    "}\n",
    "save_clf(aux)"
   ]
  },
  {
   "cell_type": "code",
   "execution_count": null,
   "metadata": {},
   "outputs": [],
   "source": []
  },
  {
   "cell_type": "code",
   "execution_count": null,
   "metadata": {},
   "outputs": [],
   "source": []
  },
  {
   "cell_type": "markdown",
   "metadata": {},
   "source": [
    "# ROC Curve"
   ]
  },
  {
   "cell_type": "code",
   "execution_count": 109,
   "metadata": {},
   "outputs": [
    {
     "data": {
      "text/plain": [
       "['LogisticRegression',\n",
       " 'RandomForestClassifier',\n",
       " 'MLPClassifier',\n",
       " 'KNeighborsClassifier',\n",
       " 'SVC',\n",
       " 'AdaBoostClassifier',\n",
       " 'GaussianNB',\n",
       " 'SGDClassifier']"
      ]
     },
     "execution_count": 109,
     "metadata": {},
     "output_type": "execute_result"
    }
   ],
   "source": [
    "clfs_name"
   ]
  },
  {
   "cell_type": "code",
   "execution_count": 122,
   "metadata": {},
   "outputs": [
    {
     "data": {
      "image/png": "[encoded data removed]",
      "text/plain": [
       "<Figure size 720x720 with 1 Axes>"
      ]
     },
     "metadata": {
      "needs_background": "light"
     },
     "output_type": "display_data"
    }
   ],
   "source": [
    "skip = ['SGDClassifier']\n",
    "# skip = []\n",
    "roc_score = []\n",
    "for ix in range(len(clfs_name)):\n",
    "    this_x = X_used[ix]\n",
    "    this_model = clfs[ix]\n",
    "    model_name = clfs_name[ix]\n",
    "    model_prediction = this_model.predict(this_x)\n",
    "#     acc = accuracy_score(Y, model_prediction)\n",
    "    prec = precision_score(Y, model_prediction)\n",
    "    roc_score.append(prec)\n",
    "    if model_name in skip: continue\n",
    "#     temp_acc = temp_acc.append({'Feature':feature_name, 'Accuracy':acc}, ignore_index=True)\n",
    "    SY = this_model.predict_proba(this_x)[:,1] # second column = probability\n",
    "#     print(model_name)\n",
    "    SFPR, STPR, STHRESH = roc_curve(Y, SY)\n",
    "    plt.plot(SFPR, STPR, label=model_name)\n",
    "    \n",
    "plt.plot([0,1],[0,1], label='', ls='dotted')\n",
    "plt.xlabel(\"False Positive Rate\")\n",
    "plt.ylabel(\"True Positive Rate\")\n",
    "plt.title(\"Legendary Pokemon Predictions by Classifier\")\n",
    "plt.legend(loc='center left', bbox_to_anchor=(1, 0.5))\n",
    "plt.grid()\n",
    "plt.gcf().set_size_inches(10,10);\n",
    "# print('Feature\\t      Accuracy')\n",
    "# temp_acc.sort_values(by='Accuracy', ascending=False)"
   ]
  },
  {
   "cell_type": "code",
   "execution_count": 127,
   "metadata": {},
   "outputs": [
    {
     "data": {
      "text/html": [
       "<div>\n",
       "<style scoped>\n",
       "    .dataframe tbody tr th:only-of-type {\n",
       "        vertical-align: middle;\n",
       "    }\n",
       "\n",
       "    .dataframe tbody tr th {\n",
       "        vertical-align: top;\n",
       "    }\n",
       "\n",
       "    .dataframe thead th {\n",
       "        text-align: right;\n",
       "    }\n",
       "</style>\n",
       "<table border=\"1\" class=\"dataframe\">\n",
       "  <thead>\n",
       "    <tr style=\"text-align: right;\">\n",
       "      <th></th>\n",
       "      <th>Classifier</th>\n",
       "      <th>Precision</th>\n",
       "    </tr>\n",
       "  </thead>\n",
       "  <tbody>\n",
       "    <tr>\n",
       "      <th>1</th>\n",
       "      <td>RandomForestClassifier</td>\n",
       "      <td>0.966667</td>\n",
       "    </tr>\n",
       "    <tr>\n",
       "      <th>4</th>\n",
       "      <td>AdaBoostClassifier</td>\n",
       "      <td>0.682596</td>\n",
       "    </tr>\n",
       "    <tr>\n",
       "      <th>0</th>\n",
       "      <td>LogisticRegression</td>\n",
       "      <td>0.663462</td>\n",
       "    </tr>\n",
       "    <tr>\n",
       "      <th>7</th>\n",
       "      <td>SVC</td>\n",
       "      <td>0.636029</td>\n",
       "    </tr>\n",
       "    <tr>\n",
       "      <th>5</th>\n",
       "      <td>GaussianNB</td>\n",
       "      <td>0.583654</td>\n",
       "    </tr>\n",
       "    <tr>\n",
       "      <th>3</th>\n",
       "      <td>KNeighborsClassifier</td>\n",
       "      <td>0.568109</td>\n",
       "    </tr>\n",
       "    <tr>\n",
       "      <th>2</th>\n",
       "      <td>MLPClassifier</td>\n",
       "      <td>0.489487</td>\n",
       "    </tr>\n",
       "    <tr>\n",
       "      <th>6</th>\n",
       "      <td>SGDClassifier</td>\n",
       "      <td>0.360444</td>\n",
       "    </tr>\n",
       "  </tbody>\n",
       "</table>\n",
       "</div>"
      ],
      "text/plain": [
       "               Classifier  Precision\n",
       "1  RandomForestClassifier   0.966667\n",
       "4      AdaBoostClassifier   0.682596\n",
       "0      LogisticRegression   0.663462\n",
       "7                     SVC   0.636029\n",
       "5              GaussianNB   0.583654\n",
       "3    KNeighborsClassifier   0.568109\n",
       "2           MLPClassifier   0.489487\n",
       "6           SGDClassifier   0.360444"
      ]
     },
     "execution_count": 127,
     "metadata": {},
     "output_type": "execute_result"
    }
   ],
   "source": [
    "accdf = pd.DataFrame(columns=['Classifier', 'Precision'])\n",
    "accdf['Classifier'] = clfs_name\n",
    "accdf['Precision'] = scores\n",
    "# accdf['Precision on Whole Data'] = roc_score\n",
    "accdf.sort_values('Precision', ascending=False)"
   ]
  },
  {
   "cell_type": "code",
   "execution_count": null,
   "metadata": {},
   "outputs": [],
   "source": []
  },
  {
   "cell_type": "code",
   "execution_count": null,
   "metadata": {},
   "outputs": [],
   "source": []
  },
  {
   "cell_type": "markdown",
   "metadata": {},
   "source": [
    "# Predict the test set"
   ]
  },
  {
   "cell_type": "code",
   "execution_count": null,
   "metadata": {},
   "outputs": [],
   "source": []
  },
  {
   "cell_type": "code",
   "execution_count": 131,
   "metadata": {},
   "outputs": [],
   "source": [
    "best_model = clfs[1]\n",
    "Yt = best_model.predict(Xt)"
   ]
  },
  {
   "cell_type": "code",
   "execution_count": 136,
   "metadata": {},
   "outputs": [
    {
     "data": {
      "text/html": [
       "<div>\n",
       "<style scoped>\n",
       "    .dataframe tbody tr th:only-of-type {\n",
       "        vertical-align: middle;\n",
       "    }\n",
       "\n",
       "    .dataframe tbody tr th {\n",
       "        vertical-align: top;\n",
       "    }\n",
       "\n",
       "    .dataframe thead th {\n",
       "        text-align: right;\n",
       "    }\n",
       "</style>\n",
       "<table border=\"1\" class=\"dataframe\">\n",
       "  <thead>\n",
       "    <tr style=\"text-align: right;\">\n",
       "      <th></th>\n",
       "      <th>unique_id</th>\n",
       "      <th>is_legendary</th>\n",
       "    </tr>\n",
       "  </thead>\n",
       "  <tbody>\n",
       "    <tr>\n",
       "      <th>0</th>\n",
       "      <td>602</td>\n",
       "      <td>0.0</td>\n",
       "    </tr>\n",
       "    <tr>\n",
       "      <th>1</th>\n",
       "      <td>756</td>\n",
       "      <td>0.0</td>\n",
       "    </tr>\n",
       "    <tr>\n",
       "      <th>2</th>\n",
       "      <td>191</td>\n",
       "      <td>0.0</td>\n",
       "    </tr>\n",
       "    <tr>\n",
       "      <th>3</th>\n",
       "      <td>16</td>\n",
       "      <td>0.0</td>\n",
       "    </tr>\n",
       "    <tr>\n",
       "      <th>4</th>\n",
       "      <td>718</td>\n",
       "      <td>0.0</td>\n",
       "    </tr>\n",
       "  </tbody>\n",
       "</table>\n",
       "</div>"
      ],
      "text/plain": [
       "   unique_id  is_legendary\n",
       "0        602           0.0\n",
       "1        756           0.0\n",
       "2        191           0.0\n",
       "3         16           0.0\n",
       "4        718           0.0"
      ]
     },
     "execution_count": 136,
     "metadata": {},
     "output_type": "execute_result"
    }
   ],
   "source": [
    "output = pd.DataFrame()\n",
    "output['unique_id'] = test['unique_id']\n",
    "output['is_legendary'] = Yt\n",
    "output.head()"
   ]
  },
  {
   "cell_type": "code",
   "execution_count": 137,
   "metadata": {},
   "outputs": [],
   "source": [
    "import datetime\n",
    "tnow = datetime.datetime.now()\n",
    "_result_file = 'results/result_'+tnow.strftime(\"%b-%d %H %M %S\")+'.csv'\n",
    "output.to_csv(_result_file, index=False)"
   ]
  },
  {
   "cell_type": "code",
   "execution_count": null,
   "metadata": {},
   "outputs": [],
   "source": []
  }
 ],
 "metadata": {
  "kernelspec": {
   "display_name": "Python 3",
   "language": "python",
   "name": "python3"
  },
  "language_info": {
   "codemirror_mode": {
    "name": "ipython",
    "version": 3
   },
   "file_extension": ".py",
   "mimetype": "text/x-python",
   "name": "python",
   "nbconvert_exporter": "python",
   "pygments_lexer": "ipython3",
   "version": "3.7.2"
  }
 },
 "nbformat": 4,
 "nbformat_minor": 2
}
