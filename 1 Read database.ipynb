{
 "cells": [
  {
   "cell_type": "code",
   "execution_count": 33,
   "metadata": {},
   "outputs": [],
   "source": [
    "import pandas as pd\n",
    "import numpy as np\n",
    "\n",
    "import sqlite3"
   ]
  },
  {
   "cell_type": "code",
   "execution_count": 25,
   "metadata": {},
   "outputs": [],
   "source": [
    "conn = sqlite3.connect('./data/final.db')\n",
    "cur = conn.cursor()"
   ]
  },
  {
   "cell_type": "code",
   "execution_count": 26,
   "metadata": {},
   "outputs": [],
   "source": [
    "def fetch_table_names(cur: sqlite3.Cursor) -> [str]:\n",
    "    '''\n",
    "    Retrieves all tables in the database\n",
    "    '''\n",
    "    \n",
    "    cur.execute('SELECT name FROM sqlite_master WHERE type = \\'table\\';')\n",
    "    return [x[0] for x in cur.fetchall()]\n",
    "\n",
    "def fetch_column_names(cur: sqlite3.Cursor, table: str) -> [str]:\n",
    "    '''\n",
    "    Retrieves all columns in a table\n",
    "    '''\n",
    "    \n",
    "    cur.execute('PRAGMA table_info(' + table + ');')\n",
    "    return [x[1] for x in cur.fetchall()]\n",
    "\n",
    "def fetch_col_values(cur: sqlite3.Cursor, table: str, col: str) -> []:\n",
    "    '''\n",
    "    Returns all values for a specific column\n",
    "    '''\n",
    "    \n",
    "    cur.execute('SELECT ' + col + ' FROM ' + table + ';')\n",
    "    return [x[0] for x in cur.fetchall()]"
   ]
  },
  {
   "cell_type": "code",
   "execution_count": 27,
   "metadata": {},
   "outputs": [
    {
     "data": {
      "text/plain": [
       "['SCHOOL_TRAIN', 'SCHOOL_TEST', 'POKEMON_TRAIN', 'POKEMON_TEST']"
      ]
     },
     "execution_count": 27,
     "metadata": {},
     "output_type": "execute_result"
    }
   ],
   "source": [
    "fetch_table_names(cur)"
   ]
  },
  {
   "cell_type": "code",
   "execution_count": 54,
   "metadata": {},
   "outputs": [
    {
     "data": {
      "text/plain": [
       "['rowid',\n",
       " 'unique_id',\n",
       " 'types',\n",
       " 'abilities',\n",
       " 'base_happiness',\n",
       " 'height_m',\n",
       " 'weight_kg',\n",
       " 'poke_stats',\n",
       " 'is_legendary']"
      ]
     },
     "execution_count": 54,
     "metadata": {},
     "output_type": "execute_result"
    }
   ],
   "source": [
    "train_cols = fetch_column_names(cur, 'POKEMON_TRAIN')\n",
    "train_cols"
   ]
  },
  {
   "cell_type": "code",
   "execution_count": 55,
   "metadata": {},
   "outputs": [
    {
     "data": {
      "text/plain": [
       "['rowid',\n",
       " 'unique_id',\n",
       " 'types',\n",
       " 'abilities',\n",
       " 'base_happiness',\n",
       " 'height_m',\n",
       " 'weight_kg',\n",
       " 'poke_stats']"
      ]
     },
     "execution_count": 55,
     "metadata": {},
     "output_type": "execute_result"
    }
   ],
   "source": [
    "test_cols = fetch_column_names(cur, 'POKEMON_TEST')\n",
    "test_cols"
   ]
  },
  {
   "cell_type": "markdown",
   "metadata": {},
   "source": [
    "# Create train and test set"
   ]
  },
  {
   "cell_type": "code",
   "execution_count": 56,
   "metadata": {},
   "outputs": [
    {
     "data": {
      "text/plain": [
       "((0, 9), (0, 8))"
      ]
     },
     "execution_count": 56,
     "metadata": {},
     "output_type": "execute_result"
    }
   ],
   "source": [
    "train, test = pd.DataFrame(columns=train_cols), pd.DataFrame(columns=test_cols)\n",
    "train.shape, test.shape"
   ]
  },
  {
   "cell_type": "code",
   "execution_count": 57,
   "metadata": {},
   "outputs": [],
   "source": [
    "for c in train_cols:\n",
    "    train[c] = fetch_col_values(cur, 'POKEMON_TRAIN', c)\n",
    "for c in test_cols:\n",
    "    test[c] = fetch_col_values(cur, 'POKEMON_TEST', c)"
   ]
  },
  {
   "cell_type": "code",
   "execution_count": 59,
   "metadata": {},
   "outputs": [
    {
     "data": {
      "text/plain": [
       "((520, 9), (281, 8))"
      ]
     },
     "execution_count": 59,
     "metadata": {},
     "output_type": "execute_result"
    }
   ],
   "source": [
    "train.shape, test.shape"
   ]
  },
  {
   "cell_type": "code",
   "execution_count": 60,
   "metadata": {},
   "outputs": [
    {
     "data": {
      "text/html": [
       "<div>\n",
       "<style scoped>\n",
       "    .dataframe tbody tr th:only-of-type {\n",
       "        vertical-align: middle;\n",
       "    }\n",
       "\n",
       "    .dataframe tbody tr th {\n",
       "        vertical-align: top;\n",
       "    }\n",
       "\n",
       "    .dataframe thead th {\n",
       "        text-align: right;\n",
       "    }\n",
       "</style>\n",
       "<table border=\"1\" class=\"dataframe\">\n",
       "  <thead>\n",
       "    <tr style=\"text-align: right;\">\n",
       "      <th></th>\n",
       "      <th>rowid</th>\n",
       "      <th>unique_id</th>\n",
       "      <th>types</th>\n",
       "      <th>abilities</th>\n",
       "      <th>base_happiness</th>\n",
       "      <th>height_m</th>\n",
       "      <th>weight_kg</th>\n",
       "      <th>poke_stats</th>\n",
       "      <th>is_legendary</th>\n",
       "    </tr>\n",
       "  </thead>\n",
       "  <tbody>\n",
       "    <tr>\n",
       "      <th>284</th>\n",
       "      <td>285</td>\n",
       "      <td>421</td>\n",
       "      <td>water, nan</td>\n",
       "      <td>['Swift Swim', 'Water Veil', 'Lightningrod']</td>\n",
       "      <td>None</td>\n",
       "      <td>1.3</td>\n",
       "      <td>39.0</td>\n",
       "      <td>nan, 92.0, 65.0, 65.0, 80.0, 68.0</td>\n",
       "      <td>0</td>\n",
       "    </tr>\n",
       "    <tr>\n",
       "      <th>121</th>\n",
       "      <td>122</td>\n",
       "      <td>545</td>\n",
       "      <td>grass, dark</td>\n",
       "      <td>['Chlorophyll', 'Early Bird', 'Pickpocket']</td>\n",
       "      <td>70.0</td>\n",
       "      <td>1.0</td>\n",
       "      <td>28.0</td>\n",
       "      <td>nan, 70.0, 40.0, nan, 40.0, 60.0</td>\n",
       "      <td>0</td>\n",
       "    </tr>\n",
       "    <tr>\n",
       "      <th>472</th>\n",
       "      <td>473</td>\n",
       "      <td>397</td>\n",
       "      <td>poison, dark</td>\n",
       "      <td>['Stench', 'Aftermath', 'Keen Eye']</td>\n",
       "      <td>70.0</td>\n",
       "      <td>0.4</td>\n",
       "      <td>19.2</td>\n",
       "      <td>nan, 63.0, 47.0, 41.0, 41.0, 74.0</td>\n",
       "      <td>0</td>\n",
       "    </tr>\n",
       "    <tr>\n",
       "      <th>61</th>\n",
       "      <td>62</td>\n",
       "      <td>66</td>\n",
       "      <td>ice, nan</td>\n",
       "      <td>['Clear Body', 'Ice Body']</td>\n",
       "      <td>None</td>\n",
       "      <td>1.8</td>\n",
       "      <td>175.0</td>\n",
       "      <td>nan, nan, nan, 100.0, 200.0, 50.0</td>\n",
       "      <td>1</td>\n",
       "    </tr>\n",
       "    <tr>\n",
       "      <th>188</th>\n",
       "      <td>189</td>\n",
       "      <td>351</td>\n",
       "      <td>electric, steel</td>\n",
       "      <td>['Magnet Pull', 'Sturdy', 'Analytic']</td>\n",
       "      <td>70.0</td>\n",
       "      <td>1.0</td>\n",
       "      <td>60.0</td>\n",
       "      <td>50, 60.0, 95.0, 120.0, 70.0, 70.0</td>\n",
       "      <td>0</td>\n",
       "    </tr>\n",
       "  </tbody>\n",
       "</table>\n",
       "</div>"
      ],
      "text/plain": [
       "     rowid unique_id            types  \\\n",
       "284    285       421       water, nan   \n",
       "121    122       545      grass, dark   \n",
       "472    473       397     poison, dark   \n",
       "61      62        66         ice, nan   \n",
       "188    189       351  electric, steel   \n",
       "\n",
       "                                        abilities base_happiness height_m  \\\n",
       "284  ['Swift Swim', 'Water Veil', 'Lightningrod']           None      1.3   \n",
       "121   ['Chlorophyll', 'Early Bird', 'Pickpocket']           70.0      1.0   \n",
       "472           ['Stench', 'Aftermath', 'Keen Eye']           70.0      0.4   \n",
       "61                     ['Clear Body', 'Ice Body']           None      1.8   \n",
       "188         ['Magnet Pull', 'Sturdy', 'Analytic']           70.0      1.0   \n",
       "\n",
       "    weight_kg                         poke_stats is_legendary  \n",
       "284      39.0  nan, 92.0, 65.0, 65.0, 80.0, 68.0            0  \n",
       "121      28.0   nan, 70.0, 40.0, nan, 40.0, 60.0            0  \n",
       "472      19.2  nan, 63.0, 47.0, 41.0, 41.0, 74.0            0  \n",
       "61      175.0  nan, nan, nan, 100.0, 200.0, 50.0            1  \n",
       "188      60.0  50, 60.0, 95.0, 120.0, 70.0, 70.0            0  "
      ]
     },
     "execution_count": 60,
     "metadata": {},
     "output_type": "execute_result"
    }
   ],
   "source": [
    "train.sample(5)"
   ]
  },
  {
   "cell_type": "code",
   "execution_count": 61,
   "metadata": {},
   "outputs": [
    {
     "data": {
      "text/html": [
       "<div>\n",
       "<style scoped>\n",
       "    .dataframe tbody tr th:only-of-type {\n",
       "        vertical-align: middle;\n",
       "    }\n",
       "\n",
       "    .dataframe tbody tr th {\n",
       "        vertical-align: top;\n",
       "    }\n",
       "\n",
       "    .dataframe thead th {\n",
       "        text-align: right;\n",
       "    }\n",
       "</style>\n",
       "<table border=\"1\" class=\"dataframe\">\n",
       "  <thead>\n",
       "    <tr style=\"text-align: right;\">\n",
       "      <th></th>\n",
       "      <th>rowid</th>\n",
       "      <th>unique_id</th>\n",
       "      <th>types</th>\n",
       "      <th>abilities</th>\n",
       "      <th>base_happiness</th>\n",
       "      <th>height_m</th>\n",
       "      <th>weight_kg</th>\n",
       "      <th>poke_stats</th>\n",
       "    </tr>\n",
       "  </thead>\n",
       "  <tbody>\n",
       "    <tr>\n",
       "      <th>229</th>\n",
       "      <td>230</td>\n",
       "      <td>741</td>\n",
       "      <td>ghost, nan</td>\n",
       "      <td>['Pressure', 'Frisk']</td>\n",
       "      <td>35.0</td>\n",
       "      <td>1.6</td>\n",
       "      <td>30.6</td>\n",
       "      <td>40, 70.0, 130.0, 60.0, 130.0, 25.0</td>\n",
       "    </tr>\n",
       "    <tr>\n",
       "      <th>90</th>\n",
       "      <td>91</td>\n",
       "      <td>153</td>\n",
       "      <td>bug, fighting</td>\n",
       "      <td>['Beast Boost']</td>\n",
       "      <td>0.0</td>\n",
       "      <td>2.4</td>\n",
       "      <td>333.6</td>\n",
       "      <td>nan, 139.0, 139.0, 53.0, 53.0, 79.0</td>\n",
       "    </tr>\n",
       "    <tr>\n",
       "      <th>275</th>\n",
       "      <td>276</td>\n",
       "      <td>463</td>\n",
       "      <td>dragon, flying</td>\n",
       "      <td>['Air Lock']</td>\n",
       "      <td>0.0</td>\n",
       "      <td>7.0</td>\n",
       "      <td>206.5</td>\n",
       "      <td>nan, nan, 100.0, 180.0, nan, 115.0</td>\n",
       "    </tr>\n",
       "    <tr>\n",
       "      <th>46</th>\n",
       "      <td>47</td>\n",
       "      <td>144</td>\n",
       "      <td>flying, dragon</td>\n",
       "      <td>['Frisk', 'Infiltrator', 'Telepathy']</td>\n",
       "      <td>70.0</td>\n",
       "      <td>0.5</td>\n",
       "      <td>8.0</td>\n",
       "      <td>nan, 30.0, nan, 45.0, nan, 55.0</td>\n",
       "    </tr>\n",
       "    <tr>\n",
       "      <th>179</th>\n",
       "      <td>180</td>\n",
       "      <td>256</td>\n",
       "      <td>water, psychic</td>\n",
       "      <td>['Dazzling', 'Strong Jaw', 'Wonder Skin ']</td>\n",
       "      <td>70.0</td>\n",
       "      <td>0.9</td>\n",
       "      <td>19.0</td>\n",
       "      <td>nan, nan, 70.0, 70.0, 70.0, 92.0</td>\n",
       "    </tr>\n",
       "  </tbody>\n",
       "</table>\n",
       "</div>"
      ],
      "text/plain": [
       "     rowid unique_id           types  \\\n",
       "229    230       741      ghost, nan   \n",
       "90      91       153   bug, fighting   \n",
       "275    276       463  dragon, flying   \n",
       "46      47       144  flying, dragon   \n",
       "179    180       256  water, psychic   \n",
       "\n",
       "                                      abilities base_happiness height_m  \\\n",
       "229                       ['Pressure', 'Frisk']           35.0      1.6   \n",
       "90                              ['Beast Boost']            0.0      2.4   \n",
       "275                                ['Air Lock']            0.0      7.0   \n",
       "46        ['Frisk', 'Infiltrator', 'Telepathy']           70.0      0.5   \n",
       "179  ['Dazzling', 'Strong Jaw', 'Wonder Skin ']           70.0      0.9   \n",
       "\n",
       "    weight_kg                           poke_stats  \n",
       "229      30.6   40, 70.0, 130.0, 60.0, 130.0, 25.0  \n",
       "90      333.6  nan, 139.0, 139.0, 53.0, 53.0, 79.0  \n",
       "275     206.5   nan, nan, 100.0, 180.0, nan, 115.0  \n",
       "46        8.0      nan, 30.0, nan, 45.0, nan, 55.0  \n",
       "179      19.0     nan, nan, 70.0, 70.0, 70.0, 92.0  "
      ]
     },
     "execution_count": 61,
     "metadata": {},
     "output_type": "execute_result"
    }
   ],
   "source": [
    "test.sample(5)"
   ]
  },
  {
   "cell_type": "markdown",
   "metadata": {},
   "source": [
    "# Save files as csv"
   ]
  },
  {
   "cell_type": "code",
   "execution_count": 62,
   "metadata": {},
   "outputs": [],
   "source": [
    "train.to_csv('./data/raw_train.csv', index=False)\n",
    "test.to_csv('./data/raw_test.csv', index=False)"
   ]
  },
  {
   "cell_type": "code",
   "execution_count": null,
   "metadata": {},
   "outputs": [],
   "source": []
  }
 ],
 "metadata": {
  "kernelspec": {
   "display_name": "Python 3",
   "language": "python",
   "name": "python3"
  },
  "language_info": {
   "codemirror_mode": {
    "name": "ipython",
    "version": 3
   },
   "file_extension": ".py",
   "mimetype": "text/x-python",
   "name": "python",
   "nbconvert_exporter": "python",
   "pygments_lexer": "ipython3",
   "version": "3.7.2"
  }
 },
 "nbformat": 4,
 "nbformat_minor": 2
}
